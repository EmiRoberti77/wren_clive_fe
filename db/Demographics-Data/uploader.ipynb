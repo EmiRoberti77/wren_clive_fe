{
 "cells": [
  {
   "cell_type": "code",
   "execution_count": 1,
   "metadata": {},
   "outputs": [],
   "source": [
    "from datetime import datetime, timedelta\n",
    "import numpy as np\n",
    "import pandas as pd\n",
    "import json\n",
    "from sqlalchemy import create_engine, text\n",
    "import numpy as np\n",
    "from PIL import Image\n",
    "from io import BytesIO\n",
    "import base64"
   ]
  },
  {
   "cell_type": "code",
   "execution_count": 2,
   "metadata": {},
   "outputs": [],
   "source": [
    "def get_db(dbname='POS',tablename='Heatmapstore', user=\"postgres\", password='dummy', host='localhost', port=5432, stime=-1, etime=-1):\n",
    "    engine = create_engine('postgresql://{}:{}@{}:{}/{}'.format(user,password,host,port,dbname))\n",
    "    with engine.connect() as conn:\n",
    "        query='SELECT * FROM public.\\\"{}\\\"'.format(tablename)\n",
    "        if((len(stime)>=0)and(len(etime)>=0)):\n",
    "            query+=' WHERE time >= {} AND time <= {}'.format(stime,etime)\n",
    "        df=pd.read_sql_query(text(query),conn)\n",
    "        #print(query)\n",
    "    return df"
   ]
  },
  {
   "cell_type": "code",
   "execution_count": 9,
   "metadata": {},
   "outputs": [],
   "source": [
    "def data_tables(start_date_str,end_date_str,start_time,end_time):\n",
    "    # Convert the input strings to datetime objects\n",
    "    start_date = datetime.strptime(start_date_str, \"%d-%m-%Y\")\n",
    "    end_date = datetime.strptime(end_date_str, \"%d-%m-%Y\")\n",
    "    \n",
    "    # Define a timedelta object with a one-day interval\n",
    "    one_day = timedelta(days=1)\n",
    "\n",
    "    #table list\n",
    "    table_list=[]\n",
    "    \n",
    "    # Print the dates between the start and end dates\n",
    "    current_date = start_date\n",
    "    while current_date <= end_date:\n",
    "        table_name=\"metatable\"+current_date.strftime(\"%d%m%Y\")\n",
    "        #print(table_name+\",\")\n",
    "        table_list.append(table_name)\n",
    "        current_date += one_day\n",
    "    date_time=[{\"table\":table, \"start_time\":000000, \"end_time\":240000} for table in table_list]\n",
    "    date_time[0][\"start_time\"]=start_time\n",
    "    date_time[-1][\"end_time\"]=end_time\n",
    "    return date_time"
   ]
  },
  {
   "cell_type": "code",
   "execution_count": 11,
   "metadata": {},
   "outputs": [],
   "source": [
    "from_date=\"22-05-2023\"\n",
    "to_date=\"22-05-2023\"\n",
    "start_time=120000\n",
    "end_time=130000\n",
    "dfs=[]\n",
    "for table_data in data_tables(from_date, to_date,start_time,end_time):\n",
    "    df=get_db(tablename=table_data['table'],stime=table_data[\"start_time\"],etime=table_data[\"end_time\"])\n",
    "    dfs.append(df)\n",
    "\n"
   ]
  },
  {
   "cell_type": "code",
   "execution_count": 13,
   "metadata": {},
   "outputs": [
    {
     "data": {
      "text/plain": [
       "11"
      ]
     },
     "execution_count": 13,
     "metadata": {},
     "output_type": "execute_result"
    }
   ],
   "source": []
  }
 ],
 "metadata": {
  "kernelspec": {
   "display_name": "Python 3",
   "language": "python",
   "name": "python3"
  },
  "language_info": {
   "codemirror_mode": {
    "name": "ipython",
    "version": 3
   },
   "file_extension": ".py",
   "mimetype": "text/x-python",
   "name": "python",
   "nbconvert_exporter": "python",
   "pygments_lexer": "ipython3",
   "version": "3.9.6"
  },
  "orig_nbformat": 4
 },
 "nbformat": 4,
 "nbformat_minor": 2
}
